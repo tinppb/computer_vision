{
 "cells": [
  {
   "cell_type": "code",
   "execution_count": 4,
   "id": "65a7aa97",
   "metadata": {},
   "outputs": [
    {
     "name": "stdout",
     "output_type": "stream",
     "text": [
      "Train size: (8005, 12288) (8005,)\n",
      "Test size: (2023, 12288) (2023,)\n",
      "Accuracy: 0.5679683638161147\n"
     ]
    }
   ],
   "source": [
    "import os\n",
    "import cv2\n",
    "import numpy as np\n",
    "from sklearn.neighbors import KNeighborsClassifier\n",
    "from sklearn.metrics import accuracy_score\n",
    "\n",
    "# Đường dẫn dataset\n",
    "train_dir = r\"D:\\HUET\\NAM 4\\NAM 4 KI I\\computer_vision\\datasets\\dogcat\\training_set\"\n",
    "test_dir  = r\"D:\\HUET\\NAM 4\\NAM 4 KI I\\computer_vision\\datasets\\dogcat\\test_set\"\n",
    "\n",
    "img_size = 64  # resize ảnh về 64x64\n",
    "\n",
    "def load_data(data_dir):\n",
    "    data = []\n",
    "    labels = []\n",
    "    for label, category in enumerate([\"cats\", \"dogs\"]):\n",
    "        path = os.path.join(data_dir, category)\n",
    "        for file in os.listdir(path):\n",
    "            img_path = os.path.join(path, file)\n",
    "            img = cv2.imread(img_path, cv2.IMREAD_COLOR)\n",
    "            if img is None:\n",
    "                continue\n",
    "            img = cv2.resize(img, (img_size, img_size))\n",
    "            data.append(img.flatten())   # flatten ảnh thành vector\n",
    "            labels.append(label)\n",
    "    return np.array(data), np.array(labels)\n",
    "\n",
    "# Load training và test\n",
    "X_train, y_train = load_data(train_dir)\n",
    "X_test, y_test = load_data(test_dir)\n",
    "\n",
    "print(\"Train size:\", X_train.shape, y_train.shape)\n",
    "print(\"Test size:\", X_test.shape, y_test.shape)\n",
    "\n",
    "# Huấn luyện KNN\n",
    "knn = KNeighborsClassifier(n_neighbors=7, metric='euclidean')\n",
    "knn.fit(X_train, y_train)\n",
    "\n",
    "# Dự đoán\n",
    "y_pred = knn.predict(X_test)\n",
    "\n",
    "# Đánh giá\n",
    "print(\"Accuracy:\", accuracy_score(y_test, y_pred))\n"
   ]
  }
 ],
 "metadata": {
  "kernelspec": {
   "display_name": "cv_env",
   "language": "python",
   "name": "python3"
  },
  "language_info": {
   "codemirror_mode": {
    "name": "ipython",
    "version": 3
   },
   "file_extension": ".py",
   "mimetype": "text/x-python",
   "name": "python",
   "nbconvert_exporter": "python",
   "pygments_lexer": "ipython3",
   "version": "3.11.8"
  }
 },
 "nbformat": 4,
 "nbformat_minor": 5
}
